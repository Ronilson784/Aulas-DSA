{
  "nbformat": 4,
  "nbformat_minor": 0,
  "metadata": {
    "colab": {
      "provenance": [],
      "gpuType": "T4",
      "include_colab_link": true
    },
    "kernelspec": {
      "name": "python3",
      "display_name": "Python 3"
    },
    "language_info": {
      "name": "python"
    },
    "accelerator": "GPU"
  },
  "cells": [
    {
      "cell_type": "markdown",
      "metadata": {
        "id": "view-in-github",
        "colab_type": "text"
      },
      "source": [
        "<a href=\"https://colab.research.google.com/github/Ronilson784/Aulas-DSA/blob/main/Aula_3_1_1.ipynb\" target=\"_parent\"><img src=\"https://colab.research.google.com/assets/colab-badge.svg\" alt=\"Open In Colab\"/></a>"
      ]
    },
    {
      "cell_type": "markdown",
      "source": [
        "# Pacotes"
      ],
      "metadata": {
        "id": "vmNGcdgzLQjE"
      }
    },
    {
      "cell_type": "markdown",
      "source": [
        "TensorFlow: Biblioteca para construir e treinar modelos de aprendizado de máquina.\n",
        "\n",
        "boston_housing: Dataset embutido no Keras contendo informações de preços de casas em Boston.\n",
        "\n",
        "layers, models: Módulos do Keras para definir e estruturar redes neurais.\n",
        "\n",
        "NumPy: Biblioteca para manipulação de arrays e cálculos numéricos.\n",
        "\n",
        "Matplotlib: Biblioteca para visualização e gráficos."
      ],
      "metadata": {
        "id": "elL8AKq7gbjl"
      }
    },
    {
      "cell_type": "code",
      "execution_count": 1,
      "metadata": {
        "id": "bZN9WSw9K336"
      },
      "outputs": [],
      "source": [
        "import os\n",
        "import random\n",
        "import tensorflow as tf\n",
        "from tensorflow.keras.datasets import boston_housing\n",
        "from tensorflow.keras import layers, models\n",
        "import numpy as np\n",
        "import matplotlib.pyplot as plt\n",
        "\n",
        "# Definir a seed para reprodutibilidade\n",
        "seed = 0\n",
        "np.random.seed(seed)\n",
        "tf.random.set_seed(seed)\n",
        "random.seed(seed)\n",
        "os.environ['PYTHONHASHSEED'] = str(seed)\n",
        "\n",
        "initializer = tf.keras.initializers.GlorotUniform(seed=seed)\n",
        "\n",
        "tf.config.experimental.enable_op_determinism()"
      ]
    },
    {
      "cell_type": "markdown",
      "source": [
        "# Importa Dataset Boston Housing"
      ],
      "metadata": {
        "id": "5ES_E1gDMk65"
      }
    },
    {
      "cell_type": "markdown",
      "source": [
        "boston_housing.load_data(): Divide os dados em conjuntos de treino e teste.\n",
        "Normalização: Reduz as diferenças de escala entre as features, melhorando a eficiência do treinamento."
      ],
      "metadata": {
        "id": "DaFmFGZEgl4W"
      }
    },
    {
      "cell_type": "code",
      "source": [
        "# Carregar dados do conjunto Boston Housing Prices\n",
        "(train_data, train_targets), (test_data, test_targets) = boston_housing.load_data()\n",
        "\n",
        "# Normalizar os dados\n",
        "mean = train_data.mean(axis=0)\n",
        "std = train_data.std(axis=0)\n",
        "train_data = (train_data - mean) / std\n",
        "test_data = (test_data - mean) / std"
      ],
      "metadata": {
        "id": "HM5vNLRvMngq",
        "colab": {
          "base_uri": "https://localhost:8080/"
        },
        "outputId": "f4245e0d-6668-498e-9f3d-839901ac69de"
      },
      "execution_count": 2,
      "outputs": [
        {
          "output_type": "stream",
          "name": "stdout",
          "text": [
            "Downloading data from https://storage.googleapis.com/tensorflow/tf-keras-datasets/boston_housing.npz\n",
            "\u001b[1m57026/57026\u001b[0m \u001b[32m━━━━━━━━━━━━━━━━━━━━\u001b[0m\u001b[37m\u001b[0m \u001b[1m0s\u001b[0m 0us/step\n"
          ]
        }
      ]
    },
    {
      "cell_type": "markdown",
      "source": [
        "# Tensorflow"
      ],
      "metadata": {
        "id": "5ChEsu-HMs-j"
      }
    },
    {
      "cell_type": "markdown",
      "source": [
        "## Define Modelo"
      ],
      "metadata": {
        "id": "LfAEc_PqMwsc"
      }
    },
    {
      "cell_type": "markdown",
      "source": [
        "Sequential: Modelo de rede neural em que camadas são empilhadas sequencialmente.\n",
        "\n",
        "Camada 1: 32 neurônios, ativação ReLU, entrada compatível com as features.\n",
        "\n",
        "Camada 2: 15 neurônios, ativação ReLU.\n",
        "\n",
        "Camada 3: 1 neurônio, ativação linear, saída para prever o preço de uma casa (valor contínuo).\n"
      ],
      "metadata": {
        "id": "naGrgROWgyna"
      }
    },
    {
      "cell_type": "code",
      "source": [
        "# Definir o modelo\n",
        "model = models.Sequential([\n",
        "    layers.Dense(32, activation='relu', input_shape=(train_data.shape[1],)),\n",
        "    layers.Dense(15, activation='relu'),\n",
        "    layers.Dense(1, activation='linear')  # Camada de saída para a previsão do preço da casa\n",
        "])"
      ],
      "metadata": {
        "id": "fzE9r28VMuv1",
        "colab": {
          "base_uri": "https://localhost:8080/"
        },
        "outputId": "32d80419-d210-4260-b4f3-a8ce81097d1b"
      },
      "execution_count": 4,
      "outputs": [
        {
          "output_type": "stream",
          "name": "stderr",
          "text": [
            "/usr/local/lib/python3.11/dist-packages/keras/src/layers/core/dense.py:87: UserWarning: Do not pass an `input_shape`/`input_dim` argument to a layer. When using Sequential models, prefer using an `Input(shape)` object as the first layer in the model instead.\n",
            "  super().__init__(activity_regularizer=activity_regularizer, **kwargs)\n"
          ]
        }
      ]
    },
    {
      "cell_type": "markdown",
      "source": [
        "## Compila Modelo"
      ],
      "metadata": {
        "id": "wWrPVeYxM0B1"
      }
    },
    {
      "cell_type": "markdown",
      "source": [
        "Otimizador: RMSprop, ajusta os pesos da rede durante o treinamento.\n",
        "\n",
        "Função de perda: Erro quadrático médio (MSE), mede a diferença entre previsões e valores reais.\n",
        "\n",
        "Métrica: Erro médio absoluto (MAE), fornece a média das diferenças absolutas entre as previsões e os valores reais."
      ],
      "metadata": {
        "id": "fUeSe9Pmg22q"
      }
    },
    {
      "cell_type": "code",
      "source": [
        "# Compilar o modelo\n",
        "model.compile(optimizer='rmsprop', loss='mse', metrics=['mae'])"
      ],
      "metadata": {
        "id": "xARKEs2rM14h"
      },
      "execution_count": 5,
      "outputs": []
    },
    {
      "cell_type": "markdown",
      "source": [
        "## Treina Modelo"
      ],
      "metadata": {
        "id": "kUsKXb_0M6MZ"
      }
    },
    {
      "cell_type": "markdown",
      "source": [
        "fit: Treina o modelo nos dados.\n",
        "\n",
        "Épocas: Número de iterações completas sobre os dados (100).\n",
        "\n",
        "Batch size: Número de amostras processadas antes de atualizar os pesos (1).\n",
        "\n",
        "validation_split: Usa 20% dos dados de treinamento para validação.\n",
        "\n",
        "verbose=0: Suprime a exibição detalhada do progresso.\n"
      ],
      "metadata": {
        "id": "Wmuiglmeg74w"
      }
    },
    {
      "cell_type": "code",
      "source": [
        "# Treinar o modelo\n",
        "history = model.fit(train_data, train_targets, epochs=100, batch_size=1, verbose=0, validation_split=0.2)"
      ],
      "metadata": {
        "id": "YoH0kIR3M8JJ"
      },
      "execution_count": 6,
      "outputs": []
    },
    {
      "cell_type": "markdown",
      "source": [
        "## Avalia Resultados"
      ],
      "metadata": {
        "id": "BrIBgxFdM-hb"
      }
    },
    {
      "cell_type": "code",
      "source": [
        "# Avaliar o modelo nos dados de teste\n",
        "test_loss, test_mae = model.evaluate(test_data, test_targets)\n",
        "print(f'Erro médio absoluto nos dados de teste: {test_mae:.2f}')"
      ],
      "metadata": {
        "id": "5MxAbJPANAem",
        "colab": {
          "base_uri": "https://localhost:8080/"
        },
        "outputId": "c9c7586e-327e-4a88-c5a5-b68c64ebd476"
      },
      "execution_count": 7,
      "outputs": [
        {
          "output_type": "stream",
          "name": "stdout",
          "text": [
            "\u001b[1m4/4\u001b[0m \u001b[32m━━━━━━━━━━━━━━━━━━━━\u001b[0m\u001b[37m\u001b[0m \u001b[1m0s\u001b[0m 16ms/step - loss: 18.2432 - mae: 2.5099 \n",
            "Erro médio absoluto nos dados de teste: 2.78\n"
          ]
        }
      ]
    },
    {
      "cell_type": "markdown",
      "source": [
        "# Gráfico"
      ],
      "metadata": {
        "id": "pmDwC99PNXiT"
      }
    },
    {
      "cell_type": "markdown",
      "source": [
        "Curvas de erro: Gráfico que mostra como o erro médio absoluto varia ao longo do treinamento.\n",
        "\n",
        "mae: Erro no treinamento.\n",
        "\n",
        "val_mae: Erro na validação.\n",
        "\n",
        "Visualização: Ajuda a identificar problemas como overfitting ou underfitting."
      ],
      "metadata": {
        "id": "r0u41IEwhAU9"
      }
    },
    {
      "cell_type": "code",
      "source": [
        "# Plotar a curva de aprendizado\n",
        "mae = history.history['mae']\n",
        "val_mae = history.history['val_mae']\n",
        "epochs = range(1, len(mae) + 1)\n",
        "\n",
        "plt.plot(epochs, mae, 'bo', label='Erro médio absoluto - Treinamento')\n",
        "plt.plot(epochs, val_mae, 'b', label='Erro médio absoluto - Validação')\n",
        "plt.title('Curva de Aprendizado')\n",
        "plt.xlabel('Épocas')\n",
        "plt.ylabel('Erro Médio Absoluto')\n",
        "plt.legend()"
      ],
      "metadata": {
        "colab": {
          "base_uri": "https://localhost:8080/",
          "height": 491
        },
        "id": "O4NcoE7hNYmp",
        "outputId": "7466e344-dac1-4cd2-a92c-f35a9bd13aca"
      },
      "execution_count": 8,
      "outputs": [
        {
          "output_type": "execute_result",
          "data": {
            "text/plain": [
              "<matplotlib.legend.Legend at 0x7d4bf73c5590>"
            ]
          },
          "metadata": {},
          "execution_count": 8
        },
        {
          "output_type": "display_data",
          "data": {
            "text/plain": [
              "<Figure size 640x480 with 1 Axes>"
            ],
            "image/png": "[encoded data removed]"
          },
          "metadata": {}
        }
      ]
    }
  ]
}